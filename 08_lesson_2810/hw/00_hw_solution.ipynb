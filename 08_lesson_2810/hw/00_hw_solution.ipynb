{
 "cells": [
  {
   "cell_type": "markdown",
   "metadata": {
    "collapsed": true,
    "pycharm": {
     "is_executing": true
    }
   },
   "source": [
    "## Задача (домашняя)\n",
    "\n",
    "<p>Сгенерируйте список случайных чисел. Выведите значение наибольшего элемента в списке. Если наибольших элементов несколько, выведите первый из них.</p>\n"
   ]
  },
  {
   "cell_type": "code",
   "execution_count": 2,
   "metadata": {},
   "outputs": [
    {
     "name": "stdout",
     "output_type": "stream",
     "text": [
      "[5, 51, 96, 75, 52, 100, 5, 13, 100, 66]\n"
     ]
    }
   ],
   "source": [
    "import random as r \n",
    "\n",
    "r_list = []\n",
    "\n",
    "for i in range(10):  # повторить 10 раз\n",
    "    r_list.append(r.randint(1, 100))  # сгенерировать случайное число и добавить его в список\n",
    "    \n",
    "print(r_list)"
   ]
  },
  {
   "cell_type": "markdown",
   "metadata": {},
   "source": [
    "<p>Для наполнения списка числами, я сначала создаю пустой список, затем в цикле на какое-то количество повторений добавляю случайные числа, сгенерированные функцией <code>randint(a, b)</code>, с помощью метода <code>.append()</code></p>\n",
    "\n",
    "<p>Для нахождения максимального числа в списке, есть два варианта действий.</p>\n",
    "\n",
    "### Вариант 1\n",
    "\n",
    "<p>Создадим переменную <code>maximum</code>, которой присвоим значение <code>0</code>. С этой переменной я буду по очереди сравнивать каждый элемент списка. Если элемент больше, чем значение <code>maximum</code>, то мы запишем этот элемент в переменную.</p>"
   ]
  },
  {
   "cell_type": "code",
   "execution_count": 3,
   "metadata": {},
   "outputs": [
    {
     "name": "stdout",
     "output_type": "stream",
     "text": [
      "100\n"
     ]
    }
   ],
   "source": [
    "maximum = 0\n",
    "\n",
    "for number in r_list:     # для каждого элемента в списке\n",
    "    if number > maximum:  # если число больше максимального\n",
    "        maximum = number  # то это новое максимальное число\n",
    "        \n",
    "print(maximum)"
   ]
  },
  {
   "cell_type": "markdown",
   "metadata": {},
   "source": [
    "### Вариант 2\n",
    "\n",
    "<p>Если в задаче нет ограничителей (вам не запрешают использовать какие-то дополнительные функции), вы можете их использовать.<p>\n",
    "\n",
    "<p>В Python есть функция <code>max(seq)</code>. Функция находит максимум из тех значений, которые вы ей передаете.</p>"
   ]
  },
  {
   "cell_type": "code",
   "execution_count": 4,
   "metadata": {},
   "outputs": [
    {
     "name": "stdout",
     "output_type": "stream",
     "text": [
      "10\n"
     ]
    }
   ],
   "source": [
    "print(max([4, 5, 7, 10]))"
   ]
  },
  {
   "cell_type": "markdown",
   "metadata": {},
   "source": [
    "<p>Функцию <code>max()</code> мы можем использовать для решения задачи.</p>"
   ]
  },
  {
   "cell_type": "code",
   "execution_count": 5,
   "metadata": {},
   "outputs": [
    {
     "name": "stdout",
     "output_type": "stream",
     "text": [
      "100\n"
     ]
    }
   ],
   "source": [
    "print(max(r_list))"
   ]
  },
  {
   "cell_type": "markdown",
   "metadata": {},
   "source": [
    "<p>итоговый код <b>вариант </b></p>"
   ]
  }
 ],
 "metadata": {
  "kernelspec": {
   "display_name": "Python 3 (ipykernel)",
   "language": "python",
   "name": "python3"
  },
  "language_info": {
   "codemirror_mode": {
    "name": "ipython",
    "version": 3
   },
   "file_extension": ".py",
   "mimetype": "text/x-python",
   "name": "python",
   "nbconvert_exporter": "python",
   "pygments_lexer": "ipython3",
   "version": "3.7.7"
  }
 },
 "nbformat": 4,
 "nbformat_minor": 1
}