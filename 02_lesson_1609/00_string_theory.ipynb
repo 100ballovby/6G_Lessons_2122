{
 "cells": [
  {
   "cell_type": "markdown",
   "metadata": {
    "collapsed": true
   },
   "source": [
    "## Строчки\n",
    "\n",
    "<p>Строкой в программировании называется любая последовательность символов, заключенная в кавычки. Можно использовать оба типа кавычек: <code>''</code>, <code>\"\"</code>.</p>\n",
    "\n",
    "<hr>\n",
    "\n",
    "<p>Строчка должна начинаться и заканчиваться одним типом кавычек.</p>"
   ]
  },
  {
   "cell_type": "code",
   "execution_count": 2,
   "metadata": {},
   "outputs": [
    {
     "name": "stdout",
     "output_type": "stream",
     "text": [
      "Демид\n"
     ]
    }
   ],
   "source": [
    "name = 'Демид'\n",
    "\n",
    "print(name)"
   ]
  },
  {
   "cell_type": "markdown",
   "metadata": {},
   "source": [
    "## Математические операции\n",
    "\n",
    "<p>Со строчками можно выполнять разные математические операции:</p>\n",
    "\n",
    "<ul>\n",
    "    <li><code>+</code> | строки можно складывать ТОЛЬКО со строками.<br><code>'мама' + 'лама' = 'мамалама'</code></li>\n",
    "    <li><code>*</code> | строки можно умножать, НО ТОЛЬКО на числа <br><code>'а' * 3 = 'aaа'</code></li>\n",
    "    <li>Строчки можно разрезать: <code>'Python'[0:3] -> Pyt</code></li>\n",
    "</ul>"
   ]
  },
  {
   "cell_type": "code",
   "execution_count": 3,
   "metadata": {},
   "outputs": [
    {
     "name": "stdout",
     "output_type": "stream",
     "text": [
      "23\n",
      "Привет!Привет!Привет!Привет!Привет!\n",
      "Hello\n"
     ]
    }
   ],
   "source": [
    "print('2' + '3')  # 23\n",
    "print('Привет!' * 5)  # Привет!Привет!Привет!Привет!Привет!'\n",
    "py = 'Hello, Python!'\n",
    "print(py[0:5])  # Hello"
   ]
  },
  {
   "cell_type": "markdown",
   "metadata": {},
   "source": [
    "### Индексы\n",
    "\n",
    "<p>Так как строчка - это последовательность символов, у каждого символа есть свой порядковый номер. Порядковые номера символов начинаются с 0.</p>\n",
    "\n",
    "<p>Чтобы достать из строки определенную букву, нужно рядом с именем переменной (которая хранит эту строку), написать квадратные скобки и указать порядковый номер буквы, которая вам нужна.</p>"
   ]
  },
  {
   "cell_type": "code",
   "execution_count": 7,
   "metadata": {},
   "outputs": [
    {
     "name": "stdout",
     "output_type": "stream",
     "text": [
      "г\n"
     ]
    }
   ],
   "source": [
    "friend = 'Егор'  # хочу достать букву г\n",
    "\n",
    "print(friend[1])  # если указать несуществующий индекс, будет ошибка"
   ]
  },
  {
   "cell_type": "markdown",
   "metadata": {},
   "source": [
    "<p>Индексы могут быть отрицательными.</p>\n",
    "\n",
    "<p>Если вы не знаете длину строки и вам нужно получить последнюю букву, в индексе можно написать <code>-1</code>.</p>"
   ]
  },
  {
   "cell_type": "code",
   "execution_count": 15,
   "metadata": {},
   "outputs": [
    {
     "name": "stdout",
     "output_type": "stream",
     "text": [
      "р\n"
     ]
    }
   ],
   "source": [
    "print(friend[-1])"
   ]
  },
  {
   "cell_type": "markdown",
   "metadata": {},
   "source": [
    "### Разрезание строк\n",
    "\n",
    "<p>Чтобы разрезать (вырезать часть) строку, нужно обратиться к переменной через квадратные скобки и указать диапазон символов, который вам нужен. Диапазон указывается через символ <code>:</code>. Например <code>friend[1:3]</code>.</p>\n",
    "\n",
    "<p>Пограничное число не входит в срез.</p>"
   ]
  },
  {
   "cell_type": "code",
   "execution_count": 18,
   "metadata": {},
   "outputs": [
    {
     "name": "stdout",
     "output_type": "stream",
     "text": [
      "го\n"
     ]
    }
   ],
   "source": [
    "print(friend[1:3])"
   ]
  },
  {
   "cell_type": "markdown",
   "metadata": {},
   "source": [
    "<p>Необязательно указывать два числа. Например, если мне нужно отрезать строку сначала, я могу написать так: <code>f[:3]</code> - вырезать сначала до 3 символа.</p>"
   ]
  },
  {
   "cell_type": "code",
   "execution_count": 20,
   "metadata": {},
   "outputs": [
    {
     "name": "stdout",
     "output_type": "stream",
     "text": [
      "Привет!\n"
     ]
    }
   ],
   "source": [
    "phrase = 'Привет! Я разработчик!'\n",
    "\n",
    "print(phrase[:7])"
   ]
  },
  {
   "cell_type": "markdown",
   "metadata": {},
   "source": [
    "<p>Если надо разрезать строку с какого-то символа до конца строки, я напишу так: <code>f[5:]</code> - вырезать с 5 символа и до конца.</p>"
   ]
  },
  {
   "cell_type": "code",
   "execution_count": 21,
   "metadata": {},
   "outputs": [
    {
     "name": "stdout",
     "output_type": "stream",
     "text": [
      "Я разработчик!\n"
     ]
    }
   ],
   "source": [
    "print(phrase[8:])"
   ]
  },
  {
   "cell_type": "markdown",
   "metadata": {},
   "source": [
    "<p>В срезах тоже работают отрицательные индексы.</p>"
   ]
  },
  {
   "cell_type": "code",
   "execution_count": 27,
   "metadata": {},
   "outputs": [
    {
     "name": "stdout",
     "output_type": "stream",
     "text": [
      "Я разработчик\n"
     ]
    }
   ],
   "source": [
    "print(phrase[-14:-1])  # с -14 до -1"
   ]
  },
  {
   "cell_type": "markdown",
   "metadata": {},
   "source": [
    "## Методы\n",
    "\n",
    "<p>У строчек есть методы. Метод - это специальная функция, которая может работать со строкой и добавлять какие-то дополнительные фишки к ней. Метод применяется к переменной, в которой находится строка. Чтобы применить метод, нужно написать его название через точку: <code>friend.method()</code></p>\n",
    "\n",
    "<ul>\n",
    "    <li><code>.lower()</code> - приводит все символы в строке в нижний регистр (делает маленькими)</li>\n",
    "    <li><code>.upper()</code> - приводит все символы в строке в верхний регистр (делает большими)</li>\n",
    "    <li><code>.replace(a, b)</code> - заменяет символ(ы) <code>a</code> на символ(ы) <code>b</code></li>\n",
    "    <li><code>.islower()</code> - проверяет, являются ли все символы в строке маленькими</li>\n",
    "    <li><code>.islower()</code> - проверяет, являются ли все символы в строке большими</li>\n",
    "</ul>"
   ]
  },
  {
   "cell_type": "code",
   "execution_count": 31,
   "metadata": {},
   "outputs": [
    {
     "name": "stdout",
     "output_type": "stream",
     "text": [
      "False\n"
     ]
    }
   ],
   "source": [
    "email = 'greatraksin@icloud.com'\n",
    "email2 = 'GreatRaksin@iCloud.com'\n",
    "\n",
    "print(email == email2)"
   ]
  },
  {
   "cell_type": "markdown",
   "metadata": {},
   "source": [
    "<p>Я сравнил два email и получил результат: они разные. Их нужно превратить в одинаковые. для этого я приведу все символы в нижний регистр.</p>"
   ]
  },
  {
   "cell_type": "code",
   "execution_count": 34,
   "metadata": {},
   "outputs": [
    {
     "name": "stdout",
     "output_type": "stream",
     "text": [
      "True\n",
      "greatraksin@icloud.com\n"
     ]
    }
   ],
   "source": [
    "email2 = email2.lower()\n",
    "print(email == email2)\n",
    "print(email2)"
   ]
  },
  {
   "cell_type": "code",
   "execution_count": 35,
   "metadata": {},
   "outputs": [
    {
     "name": "stdout",
     "output_type": "stream",
     "text": [
      "ДЕМИД\n"
     ]
    }
   ],
   "source": [
    "print(name.upper())"
   ]
  },
  {
   "cell_type": "code",
   "execution_count": 39,
   "metadata": {},
   "outputs": [
    {
     "name": "stdout",
     "output_type": "stream",
     "text": [
      "Привет! Я пианист!\n"
     ]
    }
   ],
   "source": [
    "print(phrase.replace('разработчик', 'пианист'))"
   ]
  },
  {
   "cell_type": "code",
   "execution_count": 41,
   "metadata": {},
   "outputs": [
    {
     "name": "stdout",
     "output_type": "stream",
     "text": [
      "True\n",
      "False\n"
     ]
    }
   ],
   "source": [
    "print('F'.isupper())\n",
    "print('f'.isupper())"
   ]
  },
  {
   "cell_type": "markdown",
   "metadata": {},
   "source": [
    "## f-string\n",
    "\n",
    "<p>У вас есть возможность поместить значение переменной внутри строки. Для этого нужно перед строкой поставить букву <code>f</code>, а в месте, где нужно поставить значение переменной, написать <code>{}</code></p>"
   ]
  },
  {
   "cell_type": "code",
   "execution_count": 42,
   "metadata": {},
   "outputs": [
    {
     "name": "stdout",
     "output_type": "stream",
     "text": [
      "Введи номер телефона: +375 29 123 45 67\n",
      "Введи имя: Олег\n"
     ]
    }
   ],
   "source": [
    "phone = input('Введи номер телефона: ')\n",
    "name = input('Введи имя: ')"
   ]
  },
  {
   "cell_type": "code",
   "execution_count": 44,
   "metadata": {},
   "outputs": [
    {
     "name": "stdout",
     "output_type": "stream",
     "text": [
      "Пользователь: Олег. Номер телефона: +375 29 123 45 67.\n"
     ]
    }
   ],
   "source": [
    "print(f'Пользователь: {name}. Номер телефона: {phone}.')"
   ]
  },
  {
   "cell_type": "code",
   "execution_count": null,
   "metadata": {},
   "outputs": [],
   "source": []
  }
 ],
 "metadata": {
  "kernelspec": {
   "display_name": "Python 3 (ipykernel)",
   "language": "python",
   "name": "python3"
  },
  "language_info": {
   "codemirror_mode": {
    "name": "ipython",
    "version": 3
   },
   "file_extension": ".py",
   "mimetype": "text/x-python",
   "name": "python",
   "nbconvert_exporter": "python",
   "pygments_lexer": "ipython3",
   "version": "3.7.7"
  }
 },
 "nbformat": 4,
 "nbformat_minor": 1
}
