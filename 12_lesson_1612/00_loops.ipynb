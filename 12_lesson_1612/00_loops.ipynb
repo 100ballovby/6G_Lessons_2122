{
 "cells": [
  {
   "cell_type": "markdown",
   "metadata": {
    "collapsed": true,
    "pycharm": {
     "is_executing": true
    }
   },
   "source": [
    "## Циклы. Повторение\n",
    "\n",
    "<p>Цикл - управляющая конструкция, которая позволяет повторить какие-то действия определенное или неопределенное количество раз.</p>\n",
    "\n",
    "\n",
    "## range()\n",
    "\n",
    "<p>Функция <code>range()</code> - генератор <b>арифметической последовательности (АП)</b>.</p>\n",
    "    \n",
    "<p>АП - набор чисел с 3 обязательными переменными: <code>start</code>, <code>stop</code>, <code>step</code>.</p>\n",
    "<ul>\n",
    "    <li><code>Start</code> - начало последовательности</li>\n",
    "<li><code>Stop</code> - конец последовательности</li>\n",
    "<li><code>Step</code> - то, насколько каждый следующий элемент последовательности больше предыдущего</li>\n",
    "</ul>\n",
    "\n",
    "<p>У <code>range()</code> есть 3 варианта написания:</p>\n",
    "<p><code>range(stop)</code> -> 0...stop - 1 (stop НЕ ВХОДИТ в последовательность)  | step = +1</p>"
   ]
  },
  {
   "cell_type": "code",
   "execution_count": 3,
   "metadata": {},
   "outputs": [
    {
     "name": "stdout",
     "output_type": "stream",
     "text": [
      "0 1 2 3 4\n"
     ]
    }
   ],
   "source": [
    "print(*range(5))"
   ]
  },
  {
   "cell_type": "markdown",
   "metadata": {},
   "source": [
    "<p><code>range(start, stop)</code> -> start...stop - 1  | step = +1</p>"
   ]
  },
  {
   "cell_type": "code",
   "execution_count": 4,
   "metadata": {},
   "outputs": [
    {
     "name": "stdout",
     "output_type": "stream",
     "text": [
      "5 6 7 8 9 10\n"
     ]
    }
   ],
   "source": [
    "print(*range(5, 11))"
   ]
  },
  {
   "cell_type": "markdown",
   "metadata": {},
   "source": [
    "<p><code>range(start(10), stop(15), step(2))</code> -> 10, 12, 14  (если шаг >= стоп, последовательность закончится на последнем числе <code>< stop</code>)</p>"
   ]
  },
  {
   "cell_type": "code",
   "execution_count": 6,
   "metadata": {},
   "outputs": [
    {
     "name": "stdout",
     "output_type": "stream",
     "text": [
      "50 55 60 65 70 75 80 85 90 95\n"
     ]
    }
   ],
   "source": [
    "print(*range(50, 100, 5))"
   ]
  },
  {
   "cell_type": "markdown",
   "metadata": {},
   "source": [
    "## range() в цикле for"
   ]
  },
  {
   "cell_type": "code",
   "execution_count": 8,
   "metadata": {},
   "outputs": [
    {
     "name": "stdout",
     "output_type": "stream",
     "text": [
      "0, 1, 2, 3, 4, \n"
     ]
    }
   ],
   "source": [
    "for i in range(5):\n",
    "    print(i, end=', ')\n",
    "    \n",
    "print()"
   ]
  },
  {
   "cell_type": "code",
   "execution_count": 9,
   "metadata": {},
   "outputs": [
    {
     "name": "stdout",
     "output_type": "stream",
     "text": [
      "1, 2, 3, 4, 5, 6, 7, 8, 9, 10, 11, 12, 13, 14, 15, 16, 17, 18, 19, "
     ]
    }
   ],
   "source": [
    "for j in range(1, 20):\n",
    "    print(j, end=', ')"
   ]
  },
  {
   "cell_type": "code",
   "execution_count": 10,
   "metadata": {},
   "outputs": [
    {
     "name": "stdout",
     "output_type": "stream",
     "text": [
      "1, 3, 5, 7, 9, "
     ]
    }
   ],
   "source": [
    "for k in range(1, 11, 2):\n",
    "    print(k, end=', ')"
   ]
  },
  {
   "cell_type": "markdown",
   "metadata": {},
   "source": [
    "<p>Управляющая переменная цикла (<code>i</code>) может называться как угодно.</p>\n",
    "\n",
    "## Объединение\n",
    "\n",
    "<p>Циклы (все) могут работать со списками. <b>Список</b> - последовательность элементов, взятая в квадратные скобки. Все элементы имеют индексы (порядковые номера, начинются с 0) и элементы разделены символом <code>,</code>.</p>\n",
    "\n",
    "<p>Например: наполним список четными числами от 1 до 15.</p>"
   ]
  },
  {
   "cell_type": "code",
   "execution_count": 12,
   "metadata": {},
   "outputs": [
    {
     "name": "stdout",
     "output_type": "stream",
     "text": [
      "[2, 4, 6, 8, 10, 12, 14]\n"
     ]
    }
   ],
   "source": [
    "even = []  # четные числа \n",
    "\n",
    "for i in range(2, 15, 2):\n",
    "    even.append(i)\n",
    "    \n",
    "print(even)"
   ]
  },
  {
   "cell_type": "markdown",
   "metadata": {},
   "source": [
    "<p>Когда речь идет о четных/нечетных последовательностях, использование оператора <code>if</code> <b><u>не нужно</u></b>. Шагом последовательности вы можете управлять тем, какие числа будут добавлены в список. В задаче мне пришлось немножко изменить условия: вместо <code>1</code> я поставил <code>2</code> и теперь шаг <code>+2</code> формирует мне только четные числа: <code>2, (+2) 4, (+2) 6, (+2) 8, (+2) 10, (+2) 12, (+2) 14</code>.</p>\n",
    "\n",
    "<p>Так как последнее число при прибавлении к нему двойки, выйдет за пределы диапазона (<code>16 > 15</code>), последовательность остановится на числе <code>14</code>.</p>\n",
    "\n",
    "## Вычисления\n",
    "\n",
    "<p>В теле цикла можно выполнять вычисления.</p>\n",
    "<p>Напишем программу, которая спрашивает количество чисел, затем получает эти числа и суммирует их.</p>"
   ]
  },
  {
   "cell_type": "code",
   "execution_count": 13,
   "metadata": {},
   "outputs": [
    {
     "name": "stdout",
     "output_type": "stream",
     "text": [
      "Сколько чисел нужно? 5\n",
      "Введите число: 3\n",
      "Введите число: 1\n",
      "Введите число: 6\n",
      "Введите число: 7\n",
      "Введите число: 10\n",
      "27\n"
     ]
    }
   ],
   "source": [
    "count = int(input('Сколько чисел нужно? '))\n",
    "summary = 0  # суммируем числа здесь \n",
    "\n",
    "for i in range(count):\n",
    "    n = int(input('Введите число: '))\n",
    "    summary += n\n",
    "    \n",
    "print(summary)\n"
   ]
  },
  {
   "cell_type": "markdown",
   "metadata": {},
   "source": [
    "<p><code>for i in range(count)</code> означает, что количество повторений цикла задается переменной <code>count</code>. То есть количество повторений = тому числу, которое будет записано в эту переменную.</p>\n",
    "\n",
    "<p>В теле цикла я запрашиваю у пользователя число (в переменной <code>n</code>), а затем складываю каждое число, введенное пользователем, с переменной <code>summary</code>.</p>\n",
    "\n",
    "## Инкремент и декремент\n",
    "\n",
    "<p>Оператор <code>+=</code> в теле цикла - это увеличение с присваиванием значения переменной. Называется эта штука умным словом <b>инкремент</b>. Инкременты бывают разных видов. Дело в том, что увеличивать значение переменной можно не только путем сложения, но и другими операциями:</p>\n",
    "\n",
    "<ul>\n",
    "    <li><code>+=</code> - сложение;</li>\n",
    "    <li><code>*=</code> - умножение;</li>\n",
    "    <li><code>**=</code> - возведение в стпень;</li>\n",
    "</ul>\n",
    "\n",
    "<p>Помимо инкримента есть второй оператор - уменьшение с приваиванием - <b>декремент</b>. Как и в случае с первым, есть несколько вариантов уменьшения: </p>\n",
    "\n",
    "<ul>\n",
    "    <li><code>-=</code> - разность;</li>\n",
    "    <li><code>/=</code> - деление;</li>\n",
    "    <li><code>//=</code> - целочисленное деление;</li>\n",
    "    <li><code>%=</code> - остаток от деления;</li>\n",
    "</ul>\n",
    "\n",
    "<p>Работают эти операторы следующим образом:</p>\n",
    "\n",
    "<p>Предположим, что у меня есть переменная <code>x</code>, которой я присвою значение <code>2</code>, а затем выполню несколько операций с инкрементом и декрементом</p>"
   ]
  },
  {
   "cell_type": "code",
   "execution_count": 14,
   "metadata": {},
   "outputs": [
    {
     "name": "stdout",
     "output_type": "stream",
     "text": [
      "12\n"
     ]
    }
   ],
   "source": [
    "x = 2\n",
    "x *= 6  # 12\n",
    "\n",
    "print(x)"
   ]
  },
  {
   "cell_type": "markdown",
   "metadata": {},
   "source": [
    "<p><code>x = 12</code>, потому что я сначала умножил его первоначальное значение на 6 и затем сохранил получившийся результат в ту же переменную.</p>"
   ]
  },
  {
   "cell_type": "code",
   "execution_count": 15,
   "metadata": {},
   "outputs": [
    {
     "name": "stdout",
     "output_type": "stream",
     "text": [
      "19\n"
     ]
    }
   ],
   "source": [
    "x += 7 \n",
    "\n",
    "print(x)"
   ]
  },
  {
   "cell_type": "markdown",
   "metadata": {},
   "source": [
    "<p><code>x = 19</code>, потому что я сначала прибавил к его значению 7 и затем сохранил получившийся результат в ту же переменную.</p>"
   ]
  },
  {
   "cell_type": "code",
   "execution_count": 16,
   "metadata": {},
   "outputs": [
    {
     "name": "stdout",
     "output_type": "stream",
     "text": [
      "16\n"
     ]
    }
   ],
   "source": [
    "x -= 3\n",
    "\n",
    "print(x)"
   ]
  },
  {
   "cell_type": "markdown",
   "metadata": {},
   "source": [
    "<p><code>x = 16</code>, потому что я сначала отнял от его значения на 3 и затем сохранил получившийся результат в ту же переменную.</p>"
   ]
  },
  {
   "cell_type": "code",
   "execution_count": 17,
   "metadata": {},
   "outputs": [
    {
     "name": "stdout",
     "output_type": "stream",
     "text": [
      "2.0\n"
     ]
    }
   ],
   "source": [
    "x /= 8\n",
    "\n",
    "print(x)"
   ]
  },
  {
   "cell_type": "markdown",
   "metadata": {},
   "source": [
    "<p><code>x = 2</code>, потому что я сначала разделил его значение на 8 и затем сохранил получившийся результат в ту же переменную.</p>\n",
    "\n",
    "<p>Операторы инкремент и декремент можно использовать в случае, когда в программе необходимо делать какие-то промежуточные вычисления - сумма/произведение/разность/деление.</p>\n",
    "\n",
    "### Задача про факториал\n",
    "\n",
    "<p>Факториал числа <code>n</code> - это произведение всех натуральных чисел от <code>1</code> до <code>n</code>, включая его. Обозначается факториал <code>n!</code>. Например: <code>5! = 1 * 2 * 3 * 4 * 5 = 120</code>.</p>\n",
    "\n",
    "<p>По соглашению математиков: <code>0! = 1</code>, <code>1! = 1</code></p>\n",
    "\n",
    "<p>Подробнее про факториал можно прочитать <a href=\"https://skysmart.ru/articles/mathematic/chto-takoe-faktorial-chisla\" target=\"_blank\">здесь</a>.</p>\n",
    "\n",
    "<p>Используя цикл <code>for</code> и оператор инкремент напишем программу, которая считает факториал для числа, которое вводит пользователь.</p>"
   ]
  },
  {
   "cell_type": "code",
   "execution_count": 20,
   "metadata": {},
   "outputs": [
    {
     "name": "stdout",
     "output_type": "stream",
     "text": [
      "Введите число: 1\n",
      "1! = 1\n"
     ]
    }
   ],
   "source": [
    "n = int(input('Введите число: '))\n",
    "factoreal = 1  # если написать 0, то факториал будет равен 0\n",
    "\n",
    "for i in range(1, n + 1):\n",
    "    factoreal *= i\n",
    "    \n",
    "print(f'{n}! = {factoreal}')"
   ]
  },
  {
   "cell_type": "markdown",
   "metadata": {},
   "source": [
    "<p><code>n + 1</code> в функции <code>range()</code> нужен для того, чтобы само число <code>n</code> вошло в последовательность. В теле цикла я просто перемножаю все числа из <code>range()</code> между собой.</p>\n",
    "\n",
    "<p>Я могу сделать так, чтобы программа выше считала факториалы всех чисел от 1 до того числа, которое введет пользователь. В этом случае, я просто поставлю дополнительный цикл, в котором будет считаться факториал:</p>"
   ]
  },
  {
   "cell_type": "code",
   "execution_count": 24,
   "metadata": {},
   "outputs": [
    {
     "name": "stdout",
     "output_type": "stream",
     "text": [
      "До какого числа считаем факториал? 30\n",
      "0! = 1\n",
      "1! = 1\n",
      "2! = 2\n",
      "3! = 6\n",
      "4! = 24\n",
      "5! = 120\n",
      "6! = 720\n",
      "7! = 5040\n",
      "8! = 40320\n",
      "9! = 362880\n",
      "10! = 3628800\n",
      "11! = 39916800\n",
      "12! = 479001600\n",
      "13! = 6227020800\n",
      "14! = 87178291200\n",
      "15! = 1307674368000\n",
      "16! = 20922789888000\n",
      "17! = 355687428096000\n",
      "18! = 6402373705728000\n",
      "19! = 121645100408832000\n",
      "20! = 2432902008176640000\n",
      "21! = 51090942171709440000\n",
      "22! = 1124000727777607680000\n",
      "23! = 25852016738884976640000\n",
      "24! = 620448401733239439360000\n",
      "25! = 15511210043330985984000000\n",
      "26! = 403291461126605635584000000\n",
      "27! = 10888869450418352160768000000\n",
      "28! = 304888344611713860501504000000\n",
      "29! = 8841761993739701954543616000000\n",
      "30! = 265252859812191058636308480000000\n"
     ]
    }
   ],
   "source": [
    "n = int(input('До какого числа считаем факториал? '))\n",
    "\n",
    "for f in range(n + 1):\n",
    "    factoreal = 1 \n",
    "    for i in range(1, f + 1):\n",
    "        factoreal *= i\n",
    "    print(f'{f}! = {factoreal}')"
   ]
  }
 ],
 "metadata": {
  "kernelspec": {
   "display_name": "Python 3 (ipykernel)",
   "language": "python",
   "name": "python3"
  },
  "language_info": {
   "codemirror_mode": {
    "name": "ipython",
    "version": 3
   },
   "file_extension": ".py",
   "mimetype": "text/x-python",
   "name": "python",
   "nbconvert_exporter": "python",
   "pygments_lexer": "ipython3",
   "version": "3.7.7"
  }
 },
 "nbformat": 4,
 "nbformat_minor": 1
}