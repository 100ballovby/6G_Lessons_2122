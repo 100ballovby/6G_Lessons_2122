{
 "cells": [
  {
   "cell_type": "markdown",
   "metadata": {
    "collapsed": true,
    "pycharm": {
     "is_executing": true,
     "name": "#%%\n"
    }
   },
   "source": [
    "## Строки (<code>str</code>)\n",
    "\n",
    "<p><b>Строка</b> в программировании - это любая последовательность символов, заключенная в кавычки. Тип кавычек значения не имеет. Можность использовать как <code>' '</code>, так и <code>\" \"</code>.</p>\n",
    "\n",
    "<p>Строки - это индексируемые объекты. У каждого символа в строке есть свой порядковый номер - индекс. Индексы начинаются с нуля.</p>\n",
    "\n",
    "<p>Список - это строка на стероидах.</p>"
   ]
  },
  {
   "cell_type": "code",
   "execution_count": 1,
   "metadata": {},
   "outputs": [
    {
     "name": "stdout",
     "output_type": "stream",
     "text": [
      "<class 'str'>\n"
     ]
    }
   ],
   "source": [
    "greeting = 'Я строчка!'\n",
    "\n",
    "print(type(greeting))"
   ]
  },
  {
   "cell_type": "markdown",
   "metadata": {},
   "source": [
    "<p>Строчка должна начинаться и заканчиваться одним и тем же типом кавычек. Если вы напишите такое: <code>a = 'Hello, world!\"</code>, вы получите ошибку. Потому что кавычки не совпадают.</p>\n",
    "\n",
    "<p>В следующем примере будет выбиваться ошибка.</p>"
   ]
  },
  {
   "cell_type": "code",
   "execution_count": 3,
   "metadata": {},
   "outputs": [
    {
     "ename": "SyntaxError",
     "evalue": "unterminated string literal (detected at line 1) (2043814513.py, line 1)",
     "output_type": "error",
     "traceback": [
      "\u001B[0;36m  Input \u001B[0;32mIn [3]\u001B[0;36m\u001B[0m\n\u001B[0;31m    phrase = 'Hello! I'm a Python developer!'\u001B[0m\n\u001B[0m                                            ^\u001B[0m\n\u001B[0;31mSyntaxError\u001B[0m\u001B[0;31m:\u001B[0m unterminated string literal (detected at line 1)\n"
     ]
    }
   ],
   "source": [
    "phrase = 'Hello! I'm a Python developer!'"
   ]
  },
  {
   "cell_type": "markdown",
   "metadata": {},
   "source": [
    "<p>Для Python в примере выше строка заканчивается после буквы <code>I</code>, вторая строка начинается после слова <code>developer!</code>. Все, что находится между Python воспринимает как отдельные переменные (которых нет).</p>\n",
    "\n",
    "<p>Чтобы избежать ошибки, есть несколько способов:</p>\n",
    "\n",
    "<ol>\n",
    "    <li>Использовать разные типы кавычек в строке, например: <code>\"Hello, I'm a Python developer!\"</code> - так как в этом примере строка начинается и заканчивается двойными кавычками, одинарная не будет восприниматься как начало/окончание строки;</li>\n",
    "    <li>Использовать символ экранирования - <code><b>\\</b></code>. Символ экранирования говорит Python, что следующий после него символ нужно игнорировать и никак не воспринимать.</li>\n",
    "</ol>"
   ]
  },
  {
   "cell_type": "code",
   "execution_count": 5,
   "metadata": {},
   "outputs": [
    {
     "name": "stdout",
     "output_type": "stream",
     "text": [
      "Hello! I'm a Python developer!\n"
     ]
    }
   ],
   "source": [
    "phrase = \"Hello! I'm a Python developer!\"\n",
    "\n",
    "print(phrase)"
   ]
  },
  {
   "cell_type": "code",
   "execution_count": 6,
   "metadata": {},
   "outputs": [
    {
     "name": "stdout",
     "output_type": "stream",
     "text": [
      "Hello! I'm a Python developer!\n"
     ]
    }
   ],
   "source": [
    "phrase = 'Hello! I\\'m a Python developer!'\n",
    "\n",
    "print(phrase)"
   ]
  },
  {
   "cell_type": "markdown",
   "metadata": {},
   "source": [
    "<p>Использование символа экранирования хоть и спасает ситуацию, но в большинстве случаев он будет вам мешать, потому что его нужно ставить перед каждым символом, который вы хотите заигнорить. Проще использовтаь разные типы кавычек.</p>\n",
    "\n",
    "## Операции над строками\n",
    "\n",
    "<p>Со строчками, как и с другими типами данных, можно совершать различные операции, в том числе и математического порядка.</p>\n",
    "\n",
    "\n",
    "### Конатенация\n",
    "\n",
    "<p>Строчки можно складывать, <b>но складывать их можно только со строчками</b>. В случае сложения двух строк вы получите склеенную строчку. Складывать строчки с другими типами данных нельзя.</p>"
   ]
  },
  {
   "cell_type": "code",
   "execution_count": 7,
   "metadata": {},
   "outputs": [
    {
     "name": "stdout",
     "output_type": "stream",
     "text": [
      "машина\n"
     ]
    }
   ],
   "source": [
    "a = 'ма'\n",
    "b = 'шина'\n",
    "\n",
    "print(a + b)"
   ]
  },
  {
   "cell_type": "markdown",
   "metadata": {},
   "source": [
    "### Умножение\n",
    "\n",
    "<p>Строки можно умножать (в основном только в Python), но умножать их можно только на число. Если умножить строчку на число, вы получите новую строчку, в которой будет написан текст какое-то количество раз.</p>"
   ]
  },
  {
   "cell_type": "code",
   "execution_count": 8,
   "metadata": {},
   "outputs": [
    {
     "name": "stdout",
     "output_type": "stream",
     "text": [
      "aaaaaa\n"
     ]
    }
   ],
   "source": [
    "letter = 'a'\n",
    "\n",
    "print(letter * 6)"
   ]
  },
  {
   "cell_type": "markdown",
   "source": [
    "### Деление строк\n",
    "\n",
    "<p>Лучшее, что я могу предложить - показано на скриншоте.</p>\n",
    "\n",
    "![strings.png](attachment:strings.png)\n",
    "\n",
    "<p>Операция разности и операция деления в принципе для компьютера является очень нежелательной. Деление само себе не логично, потому что <b>10 / 2</b> - это может быть <b>1 и 9</b>, <b>2 и 8</b>, <b>3 и 7</b> и т.д.</p>\n",
    "\n",
    "<p>Операции деления и разности со строками невозможны в силу своей нелогичности и в силу того, что написано на скриншоте.</p>\n",
    "\n",
    "<hr>\n",
    "\n",
    "### Разрезание строк (string slicing)\n",
    "\n",
    "<p>Строки нельзя делить, но их можно резать. Для того, чтобы разрезать строчку, рядом с переменной нужно поставить квадратные скобки и указать промежуток индексов, в рамках которых вы хотите разрезать строку.</p>"
   ],
   "metadata": {
    "collapsed": false,
    "pycharm": {
     "name": "#%% md\n"
    }
   }
  },
  {
   "cell_type": "code",
   "execution_count": null,
   "outputs": [],
   "source": [
    "phrase2 = 'Привет, Андрей! Зачем ты плюнул в голубей?'\n",
    "\n",
    "# вырежу слово \"Андрей\". Для этого я посчитаю индексы\n",
    "print(phrase2[8:14])  # 14 индекс не входит в последовательность "
   ],
   "metadata": {
    "collapsed": false,
    "pycharm": {
     "name": "#%%\n"
    }
   }
  },
  {
   "cell_type": "markdown",
   "source": [
    "<p>Если вы хотите обрезать строчку с символа <b><code>n</code></b> и до конца строки, то второй индекс можно не указывать - <b><code>a[n:]</code></b> - строчка автоматически обрежется с указанного символа и до конца.</p>"
   ],
   "metadata": {
    "collapsed": false,
    "pycharm": {
     "name": "#%% md\n"
    }
   }
  },
  {
   "cell_type": "code",
   "execution_count": null,
   "outputs": [],
   "source": [
    "# Вырежу фразу про голубей\n",
    "print(phrase2[16:])"
   ],
   "metadata": {
    "collapsed": false,
    "pycharm": {
     "name": "#%%\n"
    }
   }
  },
  {
   "cell_type": "markdown",
   "source": [
    "<p>Если вы хотите обрезать строчку с начала до символа <b><code>n</code></b>, то первый индекс можно не указывать - <b><code>a[:n]</code></b> - строчка автоматически обрежется с начала и до указаннонр индекса.</p>"
   ],
   "metadata": {
    "collapsed": false,
    "pycharm": {
     "name": "#%% md\n"
    }
   }
  },
  {
   "cell_type": "code",
   "execution_count": null,
   "outputs": [],
   "source": [
    "# Вырежу слово Привет\n",
    "print(phrase2[:6])"
   ],
   "metadata": {
    "collapsed": false,
    "pycharm": {
     "name": "#%%\n"
    }
   }
  },
  {
   "cell_type": "markdown",
   "source": [
    "## Методы строк \n",
    "\n",
    "<p>У строчек есть большое количество методов, которые могут их изменять/дополнять.</p>\n",
    "\n",
    "### Методы изменения регистра строки \n",
    "\n",
    "<ol>\n",
    "    <li><code><b>.title()</b></code> - приводит все буквы в строке в нижний регистр, а каждое новое слово пишется с большой буквы;</li>\n",
    "    <li><code><b>.upper()</b></code> - приводит все буквы в строке в верхний регистр (Caps Lock);</li>\n",
    "    <li><code><b>.lower()</b></code> - приводит все буквы в строке в нижний регистр.</li>\n",
    "</ol>"
   ],
   "metadata": {
    "collapsed": false,
    "pycharm": {
     "name": "#%% md\n"
    }
   }
  },
  {
   "cell_type": "code",
   "execution_count": null,
   "outputs": [],
   "source": [
    "phrase3 = 'я пРиШеЛ к тЕбе с пРивЕтОм'\n",
    "\n",
    "print(f'title(): {phrase3.title()}')\n",
    "print(f'upper(): {phrase3.upper()}')\n",
    "print(f'lower(): {phrase3.lower()}')"
   ],
   "metadata": {
    "collapsed": false,
    "pycharm": {
     "name": "#%%\n"
    }
   }
  },
  {
   "cell_type": "markdown",
   "source": [
    "<p>Обратите внимание, что для вызова метода нужно создать переменную, затем после нее поставить точку и написать название метода - <code><b>variable.method_name()</b></code>.</p>\n",
    "\n",
    "<p>В отличие от большинства функций, методы <code><b>.lower()</b></code> и <code><b>.upper()</b></code> используются часто в реальной разработке.</p>\n",
    "\n",
    "<p>В примере ниже есть два email-адреса. И это разные адреса с точки зрения языка программирования.</p>"
   ],
   "metadata": {
    "collapsed": false,
    "pycharm": {
     "name": "#%% md\n"
    }
   }
  },
  {
   "cell_type": "code",
   "execution_count": null,
   "outputs": [],
   "source": [
    "email1 = 'greatraksin@icloud.com'\n",
    "email2 = 'GreatRaksin@iCloud.com'\n",
    "\n",
    "print(email1 == email2)  # False, потому что разные регстры букв \n",
    "# но если применить метод\n",
    "print(email1 == email2.lower()) # True, потому что регистры сравнялись"
   ],
   "metadata": {
    "collapsed": false,
    "pycharm": {
     "name": "#%%\n"
    }
   }
  },
  {
   "cell_type": "markdown",
   "source": [
    "### Сравнение строк\n",
    "\n",
    "<p>Строки можно сравнивать. Сравниваются строки по двум параметрам - по позиции буквы в алфавите и по регистру этих самых букв.</p>"
   ],
   "metadata": {
    "collapsed": false,
    "pycharm": {
     "name": "#%% md\n"
    }
   }
  },
  {
   "cell_type": "code",
   "execution_count": null,
   "outputs": [],
   "source": [
    "print('elephant' < 'mouse')"
   ],
   "metadata": {
    "collapsed": false,
    "pycharm": {
     "name": "#%%\n"
    }
   }
  },
  {
   "cell_type": "markdown",
   "source": [
    "<p>Я получаю <code><b>True</b></code>, потому что позиция буквы <code><b>e</b></code> в алфавите меньше позиции буквы <code><b>m</b></code> </p>\n",
    "\n",
    "<p>Сравнивать можно длины строк, но для этого нужно использовать специальную функцию - <code><b>len()</b></code> </p>"
   ],
   "metadata": {
    "collapsed": false,
    "pycharm": {
     "name": "#%% md\n"
    }
   }
  },
  {
   "cell_type": "code",
   "execution_count": null,
   "outputs": [],
   "source": [
    "a = 'привет'\n",
    "b = 'hello'\n",
    "\n",
    "print(len(a) > len(b))"
   ],
   "metadata": {
    "collapsed": false,
    "pycharm": {
     "name": "#%%\n"
    }
   }
  },
  {
   "cell_type": "code",
   "execution_count": 9,
   "metadata": {},
   "outputs": [
    {
     "name": "stdout",
     "output_type": "stream",
     "text": [
      "Андрей\n"
     ]
    }
   ],
   "source": [
    "phrase2 = 'Привет, Андрей! Зачем ты плюнул в голубей?'\n",
    "\n",
    "# вырежу слово \"Андрей\". Для этого я посчитаю индексы\n",
    "print(phrase2[8:14])  # 14 индекс не входит в последовательность "
   ]
  },
  {
   "cell_type": "markdown",
   "metadata": {},
   "source": [
    "<p>Если вы хотите обрезать строчку с символа <b><code>n</code></b> и до конца строки, то второй индекс можно не указывать - <b><code>a[n:]</code></b> - строчка автоматически обрежется с указанного символа и до конца.</p>"
   ]
  },
  {
   "cell_type": "code",
   "execution_count": 11,
   "metadata": {},
   "outputs": [
    {
     "name": "stdout",
     "output_type": "stream",
     "text": [
      "Зачем ты плюнул в голубей?\n"
     ]
    }
   ],
   "source": [
    "# Вырежу фразу про голубей\n",
    "print(phrase2[16:])"
   ]
  },
  {
   "cell_type": "markdown",
   "metadata": {},
   "source": [
    "<p>Если вы хотите обрезать строчку с начала до символа <b><code>n</code></b>, то первый индекс можно не указывать - <b><code>a[:n]</code></b> - строчка автоматически обрежется с начала и до указаннонр индекса.</p>"
   ]
  },
  {
   "cell_type": "code",
   "execution_count": 12,
   "metadata": {},
   "outputs": [
    {
     "name": "stdout",
     "output_type": "stream",
     "text": [
      "Привет\n"
     ]
    }
   ],
   "source": [
    "# Вырежу слово Привет\n",
    "print(phrase2[:6])"
   ]
  },
  {
   "cell_type": "markdown",
   "metadata": {},
   "source": [
    "## Методы строк \n",
    "\n",
    "<p>У строчек есть большое количество методов, которые могут их изменять/дополнять.</p>\n",
    "\n",
    "### Методы изменения регистра строки \n",
    "\n",
    "<ol>\n",
    "    <li><code><b>.title()</b></code> - приводит все буквы в строке в нижний регистр, а каждое новое слово пишется с большой буквы;</li>\n",
    "    <li><code><b>.upper()</b></code> - приводит все буквы в строке в верхний регистр (Caps Lock);</li>\n",
    "    <li><code><b>.lower()</b></code> - приводит все буквы в строке в нижний регистр.</li>\n",
    "</ol>"
   ]
  },
  {
   "cell_type": "code",
   "execution_count": 13,
   "metadata": {},
   "outputs": [
    {
     "name": "stdout",
     "output_type": "stream",
     "text": [
      "title(): Я Пришел К Тебе С Приветом\n",
      "upper(): Я ПРИШЕЛ К ТЕБЕ С ПРИВЕТОМ\n",
      "lower(): я пришел к тебе с приветом\n"
     ]
    }
   ],
   "source": [
    "phrase3 = 'я пРиШеЛ к тЕбе с пРивЕтОм'\n",
    "\n",
    "print(f'title(): {phrase3.title()}')\n",
    "print(f'upper(): {phrase3.upper()}')\n",
    "print(f'lower(): {phrase3.lower()}')"
   ]
  },
  {
   "cell_type": "markdown",
   "metadata": {},
   "source": [
    "<p>Обратите внимание, что для вызова метода нужно создать переменную, затем после нее поставить точку и написать название метода - <code><b>variable.method_name()</b></code>.</p>\n",
    "\n",
    "<p>В отличие от большинства функций, методы <code><b>.lower()</b></code> и <code><b>.upper()</b></code> используются часто в реальной разработке.</p>\n",
    "\n",
    "<p>В примере ниже есть два email-адреса. И это разные адреса с точки зрения языка программирования.</p>"
   ]
  },
  {
   "cell_type": "code",
   "execution_count": 16,
   "metadata": {},
   "outputs": [
    {
     "name": "stdout",
     "output_type": "stream",
     "text": [
      "False\n",
      "True\n"
     ]
    }
   ],
   "source": [
    "email1 = 'greatraksin@icloud.com'\n",
    "email2 = 'GreatRaksin@iCloud.com'\n",
    "\n",
    "print(email1 == email2)  # False, потому что разные регстры букв \n",
    "# но если применить метод\n",
    "print(email1 == email2.lower()) # True, потому что регистры сравнялись"
   ]
  },
  {
   "cell_type": "markdown",
   "metadata": {},
   "source": [
    "### Сравнение строк\n",
    "\n",
    "<p>Строки можно сравнивать. Сравниваются строки по двум параметрам - по позиции буквы в алфавите и по регистру этих самых букв.</p>"
   ]
  },
  {
   "cell_type": "code",
   "execution_count": 17,
   "metadata": {},
   "outputs": [
    {
     "name": "stdout",
     "output_type": "stream",
     "text": [
      "True\n"
     ]
    }
   ],
   "source": [
    "print('elephant' < 'mouse')"
   ]
  },
  {
   "cell_type": "markdown",
   "metadata": {},
   "source": [
    "<p>Я получаю <code><b>True</b></code>, потому что позиция буквы <code><b>e</b></code> в алфавите меньше позиции буквы <code><b>m</b></code> </p>\n",
    "\n",
    "<p>Сравнивать можно длины строк, но для этого нужно использовать специальную функцию - <code><b>len()</b></code> </p>"
   ]
  },
  {
   "cell_type": "code",
   "execution_count": 18,
   "metadata": {},
   "outputs": [
    {
     "name": "stdout",
     "output_type": "stream",
     "text": [
      "True\n"
     ]
    }
   ],
   "source": [
    "a = 'привет'\n",
    "b = 'hello'\n",
    "\n",
    "print(len(a) > len(b))"
   ]
  }
 ],
 "metadata": {
  "kernelspec": {
   "display_name": "Python 3 (ipykernel)",
   "language": "python",
   "name": "python3"
  },
  "language_info": {
   "codemirror_mode": {
    "name": "ipython",
    "version": 3
   },
   "file_extension": ".py",
   "mimetype": "text/x-python",
   "name": "python",
   "nbconvert_exporter": "python",
   "pygments_lexer": "ipython3",
   "version": "3.10.4"
  }
 },
 "nbformat": 4,
 "nbformat_minor": 1
}