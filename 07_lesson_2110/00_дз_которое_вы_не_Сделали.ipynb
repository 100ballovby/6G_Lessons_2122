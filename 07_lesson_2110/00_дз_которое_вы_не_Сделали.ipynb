{
 "cells": [
  {
   "cell_type": "markdown",
   "metadata": {
    "collapsed": true,
    "pycharm": {
     "is_executing": true
    }
   },
   "source": [
    "## Задание\n",
    "\n",
    "<p>Напишите программу, которая наполняет список случайными четными числами. Количество чисел в списке и диапазон должны задаваться через <code>input()</code>.</p>\n",
    "\n",
    "<hr>\n",
    "\n",
    "<p>Первое, что мы должны сделать - импортировать библиотеку <code>random</code></p>"
   ]
  },
  {
   "cell_type": "code",
   "execution_count": 1,
   "metadata": {},
   "outputs": [],
   "source": [
    "import random as r"
   ]
  },
  {
   "cell_type": "markdown",
   "metadata": {},
   "source": [
    "<p>Затем мне нужно задать переменные: <code>nums</code> - количество чисел, <code>start</code> - начало диапазона, <code>end</code> - конец диапазона и список <code>even_nums</code>, который я буду наполнять.</p>"
   ]
  },
  {
   "cell_type": "code",
   "execution_count": 2,
   "metadata": {},
   "outputs": [
    {
     "name": "stdout",
     "output_type": "stream",
     "text": [
      "Введите количество чисел: 10\n",
      "Начало диапазона: 1\n",
      "Конец диапазона: 100\n"
     ]
    }
   ],
   "source": [
    "nums = int(input('Введите количество чисел: '))\n",
    "start = int(input('Начало диапазона: '))\n",
    "end = int(input('Конец диапазона: '))"
   ]
  },
  {
   "cell_type": "code",
   "execution_count": 3,
   "metadata": {},
   "outputs": [],
   "source": [
    "even_nums = []"
   ]
  },
  {
   "cell_type": "markdown",
   "metadata": {},
   "source": [
    "<p>Число называется четным, если при делении на 2 остаток равен 0.</p>\n",
    "<p>Есть одна проблема: если я просто напишу цикл на <code>n</code> повторений и впишу туда условие для проверки четности, то в моем списке может оказаться не 10 чисел. Т.к. если рандом сгенерирует мне не четное число, то оно просто не добавится в список. Поэтому вместо цикла <code>for</code> я буду использовать цикл <code>while</code> с условием проверки: пока длина списка меньше, чем количество чисел, которое мне в нем необходимо.</p>"
   ]
  },
  {
   "cell_type": "code",
   "execution_count": 6,
   "metadata": {},
   "outputs": [
    {
     "name": "stdout",
     "output_type": "stream",
     "text": [
      "Список четных случайных чисел от 50 до 70: [64, 68, 58, 66, 52, 68]\n"
     ]
    }
   ],
   "source": [
    "while len(even_nums) < nums:\n",
    "    random_int = r.randint(start, end)\n",
    "    if random_int % 2 == 0:\n",
    "        even_nums.append(random_int)\n",
    "        \n",
    "print(f'Список четных случайных чисел от {start} до {end}: {even_nums}')"
   ]
  },
  {
   "cell_type": "markdown",
   "metadata": {},
   "source": [
    "<hr>\n",
    "\n",
    "<p>Полный код программы должен выглядеть так:</p>"
   ]
  },
  {
   "cell_type": "code",
   "execution_count": 7,
   "metadata": {},
   "outputs": [
    {
     "name": "stdout",
     "output_type": "stream",
     "text": [
      "Введите количество чисел: 5\n",
      "Начало диапазона: 60\n",
      "Конец диапазона: 100\n",
      "Список четных случайных чисел от 60 до 100: [94, 94, 88, 98, 60]\n"
     ]
    }
   ],
   "source": [
    "import random as r\n",
    "\n",
    "nums = int(input('Введите количество чисел: '))\n",
    "start = int(input('Начало диапазона: '))\n",
    "end = int(input('Конец диапазона: '))\n",
    "\n",
    "even_nums = []\n",
    "\n",
    "while len(even_nums) < nums:\n",
    "    random_int = r.randint(start, end)\n",
    "    if random_int % 2 == 0:\n",
    "        even_nums.append(random_int)\n",
    "        \n",
    "print(f'Список четных случайных чисел от {start} до {end}: {even_nums}')"
   ]
  },
  {
   "cell_type": "markdown",
   "metadata": {},
   "source": [
    "<p>Функция <code>len(x)</code> измеряет длину коллекции <code>x</code> и возвращает число:</p>"
   ]
  },
  {
   "cell_type": "code",
   "execution_count": 8,
   "metadata": {},
   "outputs": [
    {
     "name": "stdout",
     "output_type": "stream",
     "text": [
      "4\n"
     ]
    }
   ],
   "source": [
    "print(len('мама'))  # 4"
   ]
  },
  {
   "cell_type": "code",
   "execution_count": null,
   "metadata": {},
   "outputs": [],
   "source": []
  }
 ],
 "metadata": {
  "kernelspec": {
   "display_name": "Python 3 (ipykernel)",
   "language": "python",
   "name": "python3"
  },
  "language_info": {
   "codemirror_mode": {
    "name": "ipython",
    "version": 3
   },
   "file_extension": ".py",
   "mimetype": "text/x-python",
   "name": "python",
   "nbconvert_exporter": "python",
   "pygments_lexer": "ipython3",
   "version": "3.7.7"
  }
 },
 "nbformat": 4,
 "nbformat_minor": 1
}