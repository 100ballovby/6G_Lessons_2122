{
 "cells": [
  {
   "cell_type": "markdown",
   "metadata": {
    "collapsed": true,
    "pycharm": {
     "is_executing": true
    }
   },
   "source": [
    "## Имена переменных"
   ]
  },
  {
   "cell_type": "code",
   "execution_count": 1,
   "metadata": {},
   "outputs": [],
   "source": [
    "a = 5"
   ]
  },
  {
   "cell_type": "markdown",
   "metadata": {},
   "source": [
    "<p>Чтобы создать переменную, надо написать ее имя и присвоить ей значение.</p>\n",
    "\n",
    "### Правила названий имен переменных\n",
    "\n",
    "<ol>\n",
    "    <li>Называть понятными словами. Вместо <code>a = 5</code> <code>age = 5</code></li>\n",
    "    <li>Только английские символы</li>\n",
    "    <li>Нельзя использовать <code>!@#$%^&*()-+=/.,</code>, можно только <code>_</code></li>\n",
    "    <li>Можно называть переменные несколькими словами, <b>НО НЕ ПИШИТЕ ТАМ СОЧИНЕНИЕ</b>, если нужно использовать несколько слов, то:\n",
    "    <ul>\n",
    "        <li><b>CamelCase</b> <code>myFavoriteGood</code> - каждое новое слово с большой буквы</li>\n",
    "        <li><b>snake_case</b> <code>my_first_file</code> - слова разделяются значками _</li></ul>\n",
    "    </li>\n",
    "    \n",
    "    <li>Соблюдайте стиль названий</li>\n",
    "</ol>"
   ]
  },
  {
   "cell_type": "code",
   "execution_count": 3,
   "metadata": {},
   "outputs": [
    {
     "name": "stdout",
     "output_type": "stream",
     "text": [
      "5\n"
     ]
    }
   ],
   "source": [
    "продукты = 5\n",
    "\n",
    "print(продукты)"
   ]
  },
  {
   "cell_type": "code",
   "execution_count": null,
   "metadata": {},
   "outputs": [],
   "source": []
  }
 ],
 "metadata": {
  "kernelspec": {
   "display_name": "Python 3 (ipykernel)",
   "language": "python",
   "name": "python3"
  },
  "language_info": {
   "codemirror_mode": {
    "name": "ipython",
    "version": 3
   },
   "file_extension": ".py",
   "mimetype": "text/x-python",
   "name": "python",
   "nbconvert_exporter": "python",
   "pygments_lexer": "ipython3",
   "version": "3.7.7"
  }
 },
 "nbformat": 4,
 "nbformat_minor": 1
}
